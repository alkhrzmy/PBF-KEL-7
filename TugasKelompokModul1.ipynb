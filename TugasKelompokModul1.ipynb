{
  "nbformat": 4,
  "nbformat_minor": 0,
  "metadata": {
    "colab": {
      "provenance": [],
      "include_colab_link": true
    },
    "kernelspec": {
      "name": "python3",
      "display_name": "Python 3"
    },
    "language_info": {
      "name": "python"
    }
  },
  "cells": [
    {
      "cell_type": "markdown",
      "metadata": {
        "id": "view-in-github",
        "colab_type": "text"
      },
      "source": [
        "<a href=\"https://colab.research.google.com/github/alkhrzmy/PBF-KEL-7/blob/main/TugasKelompokModul1.ipynb\" target=\"_parent\"><img src=\"https://colab.research.google.com/assets/colab-badge.svg\" alt=\"Open In Colab\"/></a>"
      ]
    },
    {
      "cell_type": "markdown",
      "source": [
        "## Tugas Praktikum Kelompok 7"
      ],
      "metadata": {
        "id": "EBkX-B3-LGyJ"
      }
    },
    {
      "cell_type": "markdown",
      "source": [
        "1. Tessa Kania Sagala 122450040 [2]\n",
        "2. Renisha Putri Giani 122450079 [1]\n",
        "3. Rian Bintang Wijaya 122450094 [4]\n",
        "4. Gymnastiar Al Khoarizmy 122450096 [3]\n",
        "5. Virdio Samuel Saragih 122450124 [5]"
      ],
      "metadata": {
        "id": "EwN0WrA1-dso"
      }
    },
    {
      "cell_type": "markdown",
      "source": [
        "# Nomor 1"
      ],
      "metadata": {
        "id": "lRajg5OPS9t-"
      }
    },
    {
      "cell_type": "code",
      "source": [],
      "metadata": {
        "id": "Zn45uBF1XIKh"
      },
      "execution_count": null,
      "outputs": []
    },
    {
      "cell_type": "markdown",
      "source": [
        "# Nomor 2"
      ],
      "metadata": {
        "id": "p0JJX0bDLZxN"
      }
    },
    {
      "cell_type": "code",
      "source": [],
      "metadata": {
        "id": "g7rtMJfMLbOH"
      },
      "execution_count": null,
      "outputs": []
    },
    {
      "cell_type": "markdown",
      "source": [
        "# Nomor 3"
      ],
      "metadata": {
        "id": "mOIS0xpiLbr5"
      }
    },
    {
      "cell_type": "code",
      "source": [],
      "metadata": {
        "id": "y2x6J_AmLcwu"
      },
      "execution_count": null,
      "outputs": []
    },
    {
      "cell_type": "markdown",
      "source": [
        "# Nomor 4"
      ],
      "metadata": {
        "id": "NH_XTMfxLdOX"
      }
    },
    {
      "cell_type": "code",
      "source": [],
      "metadata": {
        "id": "OK1hEJ4RLejG"
      },
      "execution_count": null,
      "outputs": []
    },
    {
      "cell_type": "markdown",
      "source": [
        "# Nomor 5"
      ],
      "metadata": {
        "id": "Rvl-9rBcLe-s"
      }
    },
    {
      "cell_type": "code",
      "source": [],
      "metadata": {
        "id": "O9g8CbSXLgNW"
      },
      "execution_count": null,
      "outputs": []
    }
  ]
}