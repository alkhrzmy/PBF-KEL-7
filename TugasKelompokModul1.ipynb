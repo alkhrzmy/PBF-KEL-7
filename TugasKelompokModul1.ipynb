{
  "nbformat": 4,
  "nbformat_minor": 0,
  "metadata": {
    "colab": {
      "provenance": []
    },
    "kernelspec": {
      "name": "python3",
      "display_name": "Python 3"
    },
    "language_info": {
      "name": "python"
    }
  },
  "cells": [
    {
      "cell_type": "markdown",
      "source": [
        "# No 1"
      ],
      "metadata": {
        "id": "lRajg5OPS9t-"
      }
    },
    {
      "cell_type": "code",
      "source": [],
      "metadata": {
        "id": "Zn45uBF1XIKh"
      },
      "execution_count": null,
      "outputs": []
    }
  ]
}